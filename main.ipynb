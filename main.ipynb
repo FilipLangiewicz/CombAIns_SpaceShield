{
 "cells": [
  {
   "cell_type": "code",
   "execution_count": 4,
   "id": "4c5534ba",
   "metadata": {},
   "outputs": [
    {
     "name": "stderr",
     "output_type": "stream",
     "text": [
      "c:\\Users\\flang\\anaconda3\\envs\\combainsspace\\Lib\\site-packages\\tqdm\\auto.py:21: TqdmWarning: IProgress not found. Please update jupyter and ipywidgets. See https://ipywidgets.readthedocs.io/en/stable/user_install.html\n",
      "  from .autonotebook import tqdm as notebook_tqdm\n"
     ]
    },
    {
     "name": "stdout",
     "output_type": "stream",
     "text": [
      "COMBAINSS\n"
     ]
    }
   ],
   "source": [
    "import pandas as pd \n",
    "import numpy\n",
    "import shap\n",
    "print(\"COMBAINSS\")"
   ]
  }
 ],
 "metadata": {
  "kernelspec": {
   "display_name": "combainsspace",
   "language": "python",
   "name": "python3"
  },
  "language_info": {
   "codemirror_mode": {
    "name": "ipython",
    "version": 3
   },
   "file_extension": ".py",
   "mimetype": "text/x-python",
   "name": "python",
   "nbconvert_exporter": "python",
   "pygments_lexer": "ipython3",
   "version": "3.11.11"
  }
 },
 "nbformat": 4,
 "nbformat_minor": 5
}
